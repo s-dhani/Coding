{
  "nbformat": 4,
  "nbformat_minor": 0,
  "metadata": {
    "colab": {
      "name": "statistics & Probability.ipynb",
      "provenance": []
    },
    "kernelspec": {
      "name": "python3",
      "display_name": "Python 3"
    },
    "language_info": {
      "name": "python"
    }
  },
  "cells": [
    {
      "cell_type": "code",
      "metadata": {
        "colab": {
          "base_uri": "https://localhost:8080/"
        },
        "id": "01UlVMIGUuQQ",
        "outputId": "c29c24d9-a7e6-4be4-9307-efe4f79778e5"
      },
      "source": [
        "import statistics \n",
        "a=[2,3,6,8]\n",
        "statistics.mean(a)\n",
        "statistics.harmonic_mean(a)"
      ],
      "execution_count": null,
      "outputs": [
        {
          "output_type": "execute_result",
          "data": {
            "text/plain": [
              "3.555555555555556"
            ]
          },
          "metadata": {
            "tags": []
          },
          "execution_count": 2
        }
      ]
    },
    {
      "cell_type": "markdown",
      "metadata": {
        "id": "xtHiLugYVuj0"
      },
      "source": [
        "Try for all the functions of obtaining average of th sample data.\n",
        "Refer:https://docs.python.org/3/library/statistics.html?highlight=statistics#normaldist-examples-and-recipes  \n",
        "mean()  \n",
        "harmonic_mean()  \n",
        "median()  \n",
        "median_low()  \n",
        "median_high()  \n",
        "mode()  "
      ]
    },
    {
      "cell_type": "code",
      "metadata": {
        "id": "G1GCB3CkNvEb",
        "colab": {
          "base_uri": "https://localhost:8080/"
        },
        "outputId": "aed7089e-e850-4136-c853-a81551bf252a"
      },
      "source": [
        "import numpy as np\n",
        "# Create a random population\n",
        "population=np.random.randint(10,20,100)\n",
        "print(population)"
      ],
      "execution_count": null,
      "outputs": [
        {
          "output_type": "stream",
          "text": [
            "[19 13 16 12 16 16 14 17 15 18 13 10 17 16 16 10 18 14 18 15 14 19 12 13\n",
            " 16 10 11 11 17 14 15 17 10 18 18 15 10 10 17 10 19 17 16 14 12 11 19 10\n",
            " 18 12 14 17 13 18 14 17 16 19 12 11 10 19 18 10 12 10 19 14 11 19 17 13\n",
            " 14 10 18 12 12 18 19 12 13 19 18 14 15 13 10 10 19 19 11 17 18 11 13 14\n",
            " 14 19 10 14]\n"
          ],
          "name": "stdout"
        }
      ]
    },
    {
      "cell_type": "code",
      "metadata": {
        "colab": {
          "base_uri": "https://localhost:8080/"
        },
        "id": "650oqoJhdFvi",
        "outputId": "a0eb0502-ad7c-4baa-ce30-0072f552532b"
      },
      "source": [
        "np.mean(population)"
      ],
      "execution_count": null,
      "outputs": [
        {
          "output_type": "execute_result",
          "data": {
            "text/plain": [
              "14.57"
            ]
          },
          "metadata": {
            "tags": []
          },
          "execution_count": 3
        }
      ]
    },
    {
      "cell_type": "code",
      "metadata": {
        "colab": {
          "base_uri": "https://localhost:8080/"
        },
        "id": "BFzHCCC2dPY1",
        "outputId": "13cfb5e9-50bf-48e4-f4b0-a57ca1b144c2"
      },
      "source": [
        "np.median(population)"
      ],
      "execution_count": null,
      "outputs": [
        {
          "output_type": "execute_result",
          "data": {
            "text/plain": [
              "14.0"
            ]
          },
          "metadata": {
            "tags": []
          },
          "execution_count": 4
        }
      ]
    },
    {
      "cell_type": "code",
      "metadata": {
        "colab": {
          "base_uri": "https://localhost:8080/"
        },
        "id": "G6n6XwiPdZOY",
        "outputId": "b02f40cb-0dec-4528-a8fc-a27ca33d13c8"
      },
      "source": [
        "from statistics import mode\n",
        "mode(population)"
      ],
      "execution_count": null,
      "outputs": [
        {
          "output_type": "execute_result",
          "data": {
            "text/plain": [
              "10"
            ]
          },
          "metadata": {
            "tags": []
          },
          "execution_count": 5
        }
      ]
    },
    {
      "cell_type": "code",
      "metadata": {
        "colab": {
          "base_uri": "https://localhost:8080/"
        },
        "id": "97cvOS5ifbhw",
        "outputId": "e6118a11-ca36-4ea9-c0cb-d1af66a99b24"
      },
      "source": [
        "# Selecting a random sample from population\n",
        "sample=np.random.choice(population,15)\n",
        "sample"
      ],
      "execution_count": null,
      "outputs": [
        {
          "output_type": "execute_result",
          "data": {
            "text/plain": [
              "array([18, 10, 12, 13, 12, 12, 10, 12, 19, 14, 10, 13, 18, 15, 10])"
            ]
          },
          "metadata": {
            "tags": []
          },
          "execution_count": 6
        }
      ]
    },
    {
      "cell_type": "code",
      "metadata": {
        "colab": {
          "base_uri": "https://localhost:8080/"
        },
        "id": "atMdXABufxFF",
        "outputId": "cfaf0f1e-6ca2-48ee-8db0-e3ab0f01e353"
      },
      "source": [
        "np.mean(sample)"
      ],
      "execution_count": null,
      "outputs": [
        {
          "output_type": "execute_result",
          "data": {
            "text/plain": [
              "13.2"
            ]
          },
          "metadata": {
            "tags": []
          },
          "execution_count": 7
        }
      ]
    },
    {
      "cell_type": "code",
      "metadata": {
        "colab": {
          "base_uri": "https://localhost:8080/"
        },
        "id": "99Pj5TCtf35R",
        "outputId": "fc923d55-4126-48f7-a4a1-cb37e4128a84"
      },
      "source": [
        "np.median(sample)"
      ],
      "execution_count": null,
      "outputs": [
        {
          "output_type": "execute_result",
          "data": {
            "text/plain": [
              "12.0"
            ]
          },
          "metadata": {
            "tags": []
          },
          "execution_count": 8
        }
      ]
    },
    {
      "cell_type": "code",
      "metadata": {
        "id": "kwPrSXpBgS16"
      },
      "source": [
        "sample_1=np.random.choice(population,15)\n",
        "sample_2=np.random.choice(population,15)\n",
        "sample_3=np.random.choice(population,15)\n",
        "sample_4=np.random.choice(population,15)"
      ],
      "execution_count": null,
      "outputs": []
    },
    {
      "cell_type": "code",
      "metadata": {
        "colab": {
          "base_uri": "https://localhost:8080/"
        },
        "id": "z8wajsY2gx6k",
        "outputId": "9d0e01b6-6807-4716-ede1-4535c4006a28"
      },
      "source": [
        "sample_all=[sample,sample_1,sample_2,sample_3,sample_4]\n",
        "sample_meandata=[]\n",
        "\n",
        "for i in sample_all:\n",
        "  sample_meandata.append(np.mean(i))\n",
        "\n",
        "sample_meandata"
      ],
      "execution_count": null,
      "outputs": [
        {
          "output_type": "execute_result",
          "data": {
            "text/plain": [
              "[13.2, 14.466666666666667, 13.8, 14.0, 14.933333333333334]"
            ]
          },
          "metadata": {
            "tags": []
          },
          "execution_count": 12
        }
      ]
    },
    {
      "cell_type": "code",
      "metadata": {
        "colab": {
          "base_uri": "https://localhost:8080/"
        },
        "id": "cnPNZd5akc-Y",
        "outputId": "ca578ce1-8866-4822-cb93-50c5b83b0652"
      },
      "source": [
        "# Variance and standard deviation of the popuulation\n",
        "np.var(population)"
      ],
      "execution_count": null,
      "outputs": [
        {
          "output_type": "execute_result",
          "data": {
            "text/plain": [
              "9.5851"
            ]
          },
          "metadata": {
            "tags": []
          },
          "execution_count": 13
        }
      ]
    },
    {
      "cell_type": "code",
      "metadata": {
        "id": "MD8W5OZXk2zY",
        "colab": {
          "base_uri": "https://localhost:8080/"
        },
        "outputId": "56a92ec2-964d-4e20-f8d8-57ec685d64a7"
      },
      "source": [
        "np.std(population)"
      ],
      "execution_count": null,
      "outputs": [
        {
          "output_type": "execute_result",
          "data": {
            "text/plain": [
              "3.0959812660931916"
            ]
          },
          "metadata": {
            "tags": []
          },
          "execution_count": 14
        }
      ]
    },
    {
      "cell_type": "markdown",
      "metadata": {
        "id": "VhNyo0QmU_ph"
      },
      "source": [
        "Statistics is classified in two categories:\n",
        "\n",
        "Descriptive Statistics   \n",
        "Inferential Statistics"
      ]
    },
    {
      "cell_type": "markdown",
      "metadata": {
        "id": "ytIJOMCvVw67"
      },
      "source": [
        "Descriptive Statistics:It deals with presentation and collection of data"
      ]
    },
    {
      "cell_type": "code",
      "metadata": {
        "id": "VSY4W3o5V9dD"
      },
      "source": [
        "import numpy as np\n",
        "import pandas as pd"
      ],
      "execution_count": null,
      "outputs": []
    },
    {
      "cell_type": "code",
      "metadata": {
        "colab": {
          "base_uri": "https://localhost:8080/",
          "height": 236
        },
        "id": "ehEHVyOMWNhC",
        "outputId": "e4a3814e-e8f9-497e-9431-7315120382c3"
      },
      "source": [
        "df1=pd.DataFrame(dict(id=range(6),age=np.random.randint(18,40,size=6)))\n",
        "df1"
      ],
      "execution_count": null,
      "outputs": [
        {
          "output_type": "execute_result",
          "data": {
            "text/html": [
              "<div>\n",
              "<style scoped>\n",
              "    .dataframe tbody tr th:only-of-type {\n",
              "        vertical-align: middle;\n",
              "    }\n",
              "\n",
              "    .dataframe tbody tr th {\n",
              "        vertical-align: top;\n",
              "    }\n",
              "\n",
              "    .dataframe thead th {\n",
              "        text-align: right;\n",
              "    }\n",
              "</style>\n",
              "<table border=\"1\" class=\"dataframe\">\n",
              "  <thead>\n",
              "    <tr style=\"text-align: right;\">\n",
              "      <th></th>\n",
              "      <th>id</th>\n",
              "      <th>age</th>\n",
              "    </tr>\n",
              "  </thead>\n",
              "  <tbody>\n",
              "    <tr>\n",
              "      <th>0</th>\n",
              "      <td>0</td>\n",
              "      <td>27</td>\n",
              "    </tr>\n",
              "    <tr>\n",
              "      <th>1</th>\n",
              "      <td>1</td>\n",
              "      <td>38</td>\n",
              "    </tr>\n",
              "    <tr>\n",
              "      <th>2</th>\n",
              "      <td>2</td>\n",
              "      <td>26</td>\n",
              "    </tr>\n",
              "    <tr>\n",
              "      <th>3</th>\n",
              "      <td>3</td>\n",
              "      <td>30</td>\n",
              "    </tr>\n",
              "    <tr>\n",
              "      <th>4</th>\n",
              "      <td>4</td>\n",
              "      <td>29</td>\n",
              "    </tr>\n",
              "    <tr>\n",
              "      <th>5</th>\n",
              "      <td>5</td>\n",
              "      <td>29</td>\n",
              "    </tr>\n",
              "  </tbody>\n",
              "</table>\n",
              "</div>"
            ],
            "text/plain": [
              "   id  age\n",
              "0   0   27\n",
              "1   1   38\n",
              "2   2   26\n",
              "3   3   30\n",
              "4   4   29\n",
              "5   5   29"
            ]
          },
          "metadata": {
            "tags": []
          },
          "execution_count": 4
        }
      ]
    },
    {
      "cell_type": "code",
      "metadata": {
        "colab": {
          "base_uri": "https://localhost:8080/"
        },
        "id": "-ZmW1EFmW9Ol",
        "outputId": "b1ac703d-e7a0-4575-c988-3701ca6c856d"
      },
      "source": [
        "df1.age.mean()"
      ],
      "execution_count": null,
      "outputs": [
        {
          "output_type": "execute_result",
          "data": {
            "text/plain": [
              "29.833333333333332"
            ]
          },
          "metadata": {
            "tags": []
          },
          "execution_count": 5
        }
      ]
    },
    {
      "cell_type": "code",
      "metadata": {
        "colab": {
          "base_uri": "https://localhost:8080/"
        },
        "id": "kHMpwuUNXuLm",
        "outputId": "35563922-3968-4699-909d-e40d24c3d24b"
      },
      "source": [
        "df1.age.median()"
      ],
      "execution_count": null,
      "outputs": [
        {
          "output_type": "execute_result",
          "data": {
            "text/plain": [
              "29.0"
            ]
          },
          "metadata": {
            "tags": []
          },
          "execution_count": 6
        }
      ]
    },
    {
      "cell_type": "code",
      "metadata": {
        "colab": {
          "base_uri": "https://localhost:8080/"
        },
        "id": "QoPF7O0mX0qF",
        "outputId": "b857a4a7-efe5-4161-907b-3bbda036f61f"
      },
      "source": [
        "df1.age.mode()"
      ],
      "execution_count": null,
      "outputs": [
        {
          "output_type": "execute_result",
          "data": {
            "text/plain": [
              "0    29\n",
              "dtype: int64"
            ]
          },
          "metadata": {
            "tags": []
          },
          "execution_count": 7
        }
      ]
    },
    {
      "cell_type": "code",
      "metadata": {
        "colab": {
          "base_uri": "https://localhost:8080/"
        },
        "id": "1IiyoWNNX-q_",
        "outputId": "4358e827-337a-4410-ff39-b31cbc413eb4"
      },
      "source": [
        "df1.age.max()-df1.age.min()"
      ],
      "execution_count": null,
      "outputs": [
        {
          "output_type": "execute_result",
          "data": {
            "text/plain": [
              "12"
            ]
          },
          "metadata": {
            "tags": []
          },
          "execution_count": 8
        }
      ]
    },
    {
      "cell_type": "code",
      "metadata": {
        "colab": {
          "base_uri": "https://localhost:8080/",
          "height": 282
        },
        "id": "8PeO8-qOYQch",
        "outputId": "0a465271-0400-4bb1-bab4-42ba8bde74aa"
      },
      "source": [
        "df1.boxplot(column=\"age\",return_type=\"axes\")"
      ],
      "execution_count": null,
      "outputs": [
        {
          "output_type": "execute_result",
          "data": {
            "text/plain": [
              "<matplotlib.axes._subplots.AxesSubplot at 0x7f7ff00a2450>"
            ]
          },
          "metadata": {
            "tags": []
          },
          "execution_count": 9
        },
        {
          "output_type": "display_data",
          "data": {
            "image/png": "[encoded data removed]",
            "text/plain": [
              "<Figure size 432x288 with 1 Axes>"
            ]
          },
          "metadata": {
            "tags": [],
            "needs_background": "light"
          }
        }
      ]
    },
    {
      "cell_type": "code",
      "metadata": {
        "colab": {
          "base_uri": "https://localhost:8080/"
        },
        "id": "3Eig7OOLbN8N",
        "outputId": "835dc7fa-cc0e-4af9-ca4e-344d103b0cb0"
      },
      "source": [
        "df1.age.var()  # Variance"
      ],
      "execution_count": null,
      "outputs": [
        {
          "output_type": "execute_result",
          "data": {
            "text/plain": [
              "18.166666666666664"
            ]
          },
          "metadata": {
            "tags": []
          },
          "execution_count": 10
        }
      ]
    },
    {
      "cell_type": "code",
      "metadata": {
        "colab": {
          "base_uri": "https://localhost:8080/"
        },
        "id": "RAZbsnczbX9e",
        "outputId": "4705c2f7-6140-40d4-ef87-dc4a9d5a95bd"
      },
      "source": [
        "df1.age.std()"
      ],
      "execution_count": null,
      "outputs": [
        {
          "output_type": "execute_result",
          "data": {
            "text/plain": [
              "4.262237284181474"
            ]
          },
          "metadata": {
            "tags": []
          },
          "execution_count": 11
        }
      ]
    },
    {
      "cell_type": "markdown",
      "metadata": {
        "id": "_FuyPmuWbmkH"
      },
      "source": [
        "Inferential Statistics:Refers to the properties of the population"
      ]
    },
    {
      "cell_type": "code",
      "metadata": {
        "id": "39oYk7Pqb3M-"
      },
      "source": [
        "population=np.random.randint(10,20,500)\n",
        "np.random.seed(10)\n",
        "\n",
        "estimates=[]\n",
        "for i in range(200):\n",
        "  sample=np.random.choice(a=population,size=100)\n",
        "  estimates.append(sample.mean())"
      ],
      "execution_count": null,
      "outputs": []
    },
    {
      "cell_type": "code",
      "metadata": {
        "colab": {
          "base_uri": "https://localhost:8080/"
        },
        "id": "8CFxUYc6c_D0",
        "outputId": "0ec21457-0bbe-4f27-ded6-1696c41f32c0"
      },
      "source": [
        "np.mean(population)"
      ],
      "execution_count": null,
      "outputs": [
        {
          "output_type": "execute_result",
          "data": {
            "text/plain": [
              "14.542"
            ]
          },
          "metadata": {
            "tags": []
          },
          "execution_count": 16
        }
      ]
    },
    {
      "cell_type": "code",
      "metadata": {
        "colab": {
          "base_uri": "https://localhost:8080/",
          "height": 282
        },
        "id": "4-5qNKz5deHN",
        "outputId": "cff72e63-b492-4c57-c156-b377f66430cf"
      },
      "source": [
        "pd.DataFrame(estimates).plot(kind=\"density\")"
      ],
      "execution_count": null,
      "outputs": [
        {
          "output_type": "execute_result",
          "data": {
            "text/plain": [
              "<matplotlib.axes._subplots.AxesSubplot at 0x7f7feb5f47d0>"
            ]
          },
          "metadata": {
            "tags": []
          },
          "execution_count": 17
        },
        {
          "output_type": "display_data",
          "data": {
            "image/png": "[encoded data removed]",
            "text/plain": [
              "<Figure size 432x288 with 1 Axes>"
            ]
          },
          "metadata": {
            "tags": [],
            "needs_background": "light"
          }
        }
      ]
    },
    {
      "cell_type": "markdown",
      "metadata": {
        "id": "hlIA0MPviNM5"
      },
      "source": [
        "**`Data Visualisation`**   \n",
        "Scatter plots    \n",
        "Bar charts\n",
        "\n",
        "\n",
        "\n",
        "\n"
      ]
    },
    {
      "cell_type": "code",
      "metadata": {
        "id": "KlrPBswBidKa"
      },
      "source": [
        "import matplotlib as mpl\n",
        "import matplotlib.pyplot as plt\n",
        "import numpy as np\n",
        "import pandas as pd"
      ],
      "execution_count": null,
      "outputs": []
    },
    {
      "cell_type": "code",
      "metadata": {
        "colab": {
          "base_uri": "https://localhost:8080/",
          "height": 282
        },
        "id": "zwy1s2vTkhY1",
        "outputId": "d2b97b8b-e8ff-4629-9e11-2841c2887970"
      },
      "source": [
        "plt.scatter(np.linspace(-1,1,50),np.random.randn(50))"
      ],
      "execution_count": null,
      "outputs": [
        {
          "output_type": "execute_result",
          "data": {
            "text/plain": [
              "<matplotlib.collections.PathCollection at 0x7f24335c8b50>"
            ]
          },
          "metadata": {},
          "execution_count": 2
        },
        {
          "output_type": "display_data",
          "data": {
            "image/png": "[encoded data removed]",
            "text/plain": [
              "<Figure size 432x288 with 1 Axes>"
            ]
          },
          "metadata": {
            "needs_background": "light"
          }
        }
      ]
    },
    {
      "cell_type": "code",
      "metadata": {
        "colab": {
          "base_uri": "https://localhost:8080/",
          "height": 173
        },
        "id": "1g6o6rtSbER-",
        "outputId": "0aa04c93-6b1c-40de-8f3b-c81bd4b61af0"
      },
      "source": [
        "df=pd.read_excel('/content/book2.xlsx')\n",
        "df.head()"
      ],
      "execution_count": null,
      "outputs": [
        {
          "output_type": "execute_result",
          "data": {
            "text/html": [
              "<div>\n",
              "<style scoped>\n",
              "    .dataframe tbody tr th:only-of-type {\n",
              "        vertical-align: middle;\n",
              "    }\n",
              "\n",
              "    .dataframe tbody tr th {\n",
              "        vertical-align: top;\n",
              "    }\n",
              "\n",
              "    .dataframe thead th {\n",
              "        text-align: right;\n",
              "    }\n",
              "</style>\n",
              "<table border=\"1\" class=\"dataframe\">\n",
              "  <thead>\n",
              "    <tr style=\"text-align: right;\">\n",
              "      <th></th>\n",
              "      <th>State</th>\n",
              "      <th>Population(Mil)</th>\n",
              "    </tr>\n",
              "  </thead>\n",
              "  <tbody>\n",
              "    <tr>\n",
              "      <th>0</th>\n",
              "      <td>Andhra Pradesh</td>\n",
              "      <td>133</td>\n",
              "    </tr>\n",
              "    <tr>\n",
              "      <th>1</th>\n",
              "      <td>Telangana</td>\n",
              "      <td>121</td>\n",
              "    </tr>\n",
              "    <tr>\n",
              "      <th>2</th>\n",
              "      <td>Karnataka</td>\n",
              "      <td>110</td>\n",
              "    </tr>\n",
              "    <tr>\n",
              "      <th>3</th>\n",
              "      <td>Uttarpradesh</td>\n",
              "      <td>155</td>\n",
              "    </tr>\n",
              "  </tbody>\n",
              "</table>\n",
              "</div>"
            ],
            "text/plain": [
              "            State  Population(Mil)\n",
              "0  Andhra Pradesh              133\n",
              "1       Telangana              121\n",
              "2       Karnataka              110\n",
              "3    Uttarpradesh              155"
            ]
          },
          "metadata": {},
          "execution_count": 4
        }
      ]
    },
    {
      "cell_type": "code",
      "metadata": {
        "colab": {
          "base_uri": "https://localhost:8080/",
          "height": 282
        },
        "id": "_0S_o9kibxWw",
        "outputId": "3d9d7428-5d24-4871-dac4-9fbf622351a6"
      },
      "source": [
        "df.tail(10).plot.barh(\"State\",\"Population(Mil)\")"
      ],
      "execution_count": null,
      "outputs": [
        {
          "output_type": "execute_result",
          "data": {
            "text/plain": [
              "<matplotlib.axes._subplots.AxesSubplot at 0x7f2432787bd0>"
            ]
          },
          "metadata": {},
          "execution_count": 6
        },
        {
          "output_type": "display_data",
          "data": {
            "image/png": "[encoded data removed]",
            "text/plain": [
              "<Figure size 432x288 with 1 Axes>"
            ]
          },
          "metadata": {
            "needs_background": "light"
          }
        }
      ]
    },
    {
      "cell_type": "markdown",
      "metadata": {
        "id": "1e977aHmeL3j"
      },
      "source": [
        "**Exercise**:\n",
        "\n",
        "1.Write a python program using matplotlib to draw a sinewave    \n",
        "2.Write a python program to read an excel sheet with multiple rows and columns and draw the plots(Barcharts,Pie chart) from the data specified.\n"
      ]
    },
    {
      "cell_type": "code",
      "metadata": {
        "colab": {
          "base_uri": "https://localhost:8080/",
          "height": 282
        },
        "id": "0TicrdLRhes2",
        "outputId": "59c5d6ea-b23c-45db-bd60-99c7b7dcd473"
      },
      "source": [
        "import matplotlib.pyplot as plt\n",
        "import numpy as np\n",
        "x = np.arange(0, 15, 0.1);\n",
        "y = np.cos(x)\n",
        "plt.plot(x, y)\n",
        "\n"
      ],
      "execution_count": null,
      "outputs": [
        {
          "output_type": "execute_result",
          "data": {
            "text/plain": [
              "[<matplotlib.lines.Line2D at 0x7f2432331550>]"
            ]
          },
          "metadata": {},
          "execution_count": 15
        },
        {
          "output_type": "display_data",
          "data": {
            "image/png": "[encoded data removed]",
            "text/plain": [
              "<Figure size 432x288 with 1 Axes>"
            ]
          },
          "metadata": {
            "needs_background": "light"
          }
        }
      ]
    },
    {
      "cell_type": "markdown",
      "metadata": {
        "id": "HFtXeQ8Tj2gA"
      },
      "source": [
        "**Distributions**"
      ]
    },
    {
      "cell_type": "code",
      "metadata": {
        "id": "lqYyc8hokBNX"
      },
      "source": [
        "import numpy as np\n",
        "import matplotlib.pyplot as plt\n",
        "import seaborn as sns\n",
        "\n",
        "population=np.random.binomial(10,0.4,10000)"
      ],
      "execution_count": null,
      "outputs": []
    },
    {
      "cell_type": "code",
      "metadata": {
        "id": "-bWREpqYkbly"
      },
      "source": [
        "sample_means=[]\n",
        "for x in range(1,21):\n",
        "  sample=np.random.choice(population,size=int(0.3*len(population)),replace=False)\n",
        "  sample_means.append(np.mean(sample))"
      ],
      "execution_count": null,
      "outputs": []
    },
    {
      "cell_type": "code",
      "metadata": {
        "colab": {
          "base_uri": "https://localhost:8080/"
        },
        "id": "TmPKmj14l-p4",
        "outputId": "39d15bda-de5c-4219-f68d-685a364f1096"
      },
      "source": [
        "# calculating mean of the sample_means and population\n",
        "mean_of_sample_means=np.mean(sample_means)\n",
        "population_mean=np.mean(population)\n",
        "\n",
        "print(f\"Mean of samples is {mean_of_sample_means}\")\n",
        "print(f\"Mean of poulation is {population_mean}\")\n"
      ],
      "execution_count": null,
      "outputs": [
        {
          "output_type": "stream",
          "text": [
            "Mean of samples is 4.0261499999999995\n",
            "Mean of poulation is 4.0271\n"
          ],
          "name": "stdout"
        }
      ]
    },
    {
      "cell_type": "code",
      "metadata": {
        "colab": {
          "base_uri": "https://localhost:8080/",
          "height": 320
        },
        "id": "tkqb1hlToBnm",
        "outputId": "3c748912-5300-4ad0-d493-0c1b1fe57325"
      },
      "source": [
        "dx=sns.distplot(sample_means,kde=True,color='green')"
      ],
      "execution_count": null,
      "outputs": [
        {
          "output_type": "stream",
          "text": [
            "/usr/local/lib/python3.7/dist-packages/seaborn/distributions.py:2557: FutureWarning: `distplot` is a deprecated function and will be removed in a future version. Please adapt your code to use either `displot` (a figure-level function with similar flexibility) or `histplot` (an axes-level function for histograms).\n",
            "  warnings.warn(msg, FutureWarning)\n"
          ],
          "name": "stderr"
        },
        {
          "output_type": "display_data",
          "data": {
            "image/png": "[encoded data removed]",
            "text/plain": [
              "<Figure size 432x288 with 1 Axes>"
            ]
          },
          "metadata": {
            "needs_background": "light"
          }
        }
      ]
    },
    {
      "cell_type": "code",
      "metadata": {
        "colab": {
          "base_uri": "https://localhost:8080/",
          "height": 320
        },
        "id": "uYp1lQfVqZcv",
        "outputId": "cca52973-4349-4393-b3b8-8ba978d24d50"
      },
      "source": [
        "population=np.random.binomial(10,0.4,10000)\n",
        "sample_means=[]\n",
        "for x in range(1,10000):\n",
        "  sample=np.random.choice(population,size=int(0.3*len(population)),replace=False)\n",
        "  sample_means.append(np.mean(sample))\n",
        "dx=sns.distplot(sample_means,kde=True,color='orange')"
      ],
      "execution_count": null,
      "outputs": [
        {
          "output_type": "stream",
          "text": [
            "/usr/local/lib/python3.7/dist-packages/seaborn/distributions.py:2557: FutureWarning: `distplot` is a deprecated function and will be removed in a future version. Please adapt your code to use either `displot` (a figure-level function with similar flexibility) or `histplot` (an axes-level function for histograms).\n",
            "  warnings.warn(msg, FutureWarning)\n"
          ],
          "name": "stderr"
        },
        {
          "output_type": "display_data",
          "data": {
            "image/png": "[encoded data removed]",
            "text/plain": [
              "<Figure size 432x288 with 1 Axes>"
            ]
          },
          "metadata": {
            "needs_background": "light"
          }
        }
      ]
    }
  ]
}