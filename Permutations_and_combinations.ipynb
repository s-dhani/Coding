{
  "nbformat": 4,
  "nbformat_minor": 0,
  "metadata": {
    "colab": {
      "name": "Permutations and combinations.ipynb",
      "provenance": []
    },
    "kernelspec": {
      "name": "python3",
      "display_name": "Python 3"
    },
    "language_info": {
      "name": "python"
    }
  },
  "cells": [
    {
      "cell_type": "code",
      "metadata": {
        "colab": {
          "base_uri": "https://localhost:8080/"
        },
        "id": "U53nrRzoSUfz",
        "outputId": "bababd20-bf2e-4dbd-8e12-352a0e99f2ad"
      },
      "source": [
        "# Combinations without itertools\n",
        "def n_length_combo(lst, n):\n",
        "      \n",
        "    if n == 0:\n",
        "        return [[]]\n",
        "      \n",
        "    l =[]\n",
        "    for i in range(0, len(lst)):\n",
        "          \n",
        "        m = lst[i]\n",
        "        remLst = lst[i + 1:]     # remLst=lst[:i]+lst[i+1:] Permutations\n",
        "        #print(remLst)  \n",
        "        for p in n_length_combo(remLst, n-1):  # for p in <>(remLst)\n",
        "            #print(p)\n",
        "            l.append([m]+p)\n",
        "              \n",
        "    return l\n",
        "  \n",
        "# Driver code\n",
        "if __name__==\"__main__\":\n",
        "    arr =\"abcd\"\n",
        "    print(n_length_combo([x for x in arr], 2))"
      ],
      "execution_count": null,
      "outputs": [
        {
          "output_type": "stream",
          "text": [
            "[['a', 'b'], ['a', 'c'], ['a', 'd'], ['b', 'c'], ['b', 'd'], ['c', 'd']]\n"
          ],
          "name": "stdout"
        }
      ]
    },
    {
      "cell_type": "code",
      "metadata": {
        "colab": {
          "base_uri": "https://localhost:8080/"
        },
        "id": "HHVL_bmCX4-R",
        "outputId": "d93fcaf6-078f-4423-8dbf-29b9664b28c0"
      },
      "source": [
        "# Python function to print permutations of a given list\n",
        "def permutation(lst):\n",
        "   \n",
        "    if len(lst) == 0:\n",
        "        return []\n",
        "    \n",
        "    if len(lst) == 1:\n",
        "        return [lst]\n",
        " \n",
        "    \n",
        "    l = [] \n",
        " \n",
        "   \n",
        "    for i in range(len(lst)):\n",
        "       m = lst[i]\n",
        " \n",
        "       \n",
        "       remLst = lst[:i] + lst[i+1:]\n",
        " \n",
        "      \n",
        "       for p in permutation(remLst):\n",
        "           l.append([m] + p)\n",
        "    return l\n",
        " \n",
        " \n",
        "\n",
        "data = list('ABCD')\n",
        "for p in permutation(data):\n",
        "    print(p)"
      ],
      "execution_count": null,
      "outputs": [
        {
          "output_type": "stream",
          "text": [
            "['A', 'B', 'C', 'D']\n",
            "['A', 'B', 'D', 'C']\n",
            "['A', 'C', 'B', 'D']\n",
            "['A', 'C', 'D', 'B']\n",
            "['A', 'D', 'B', 'C']\n",
            "['A', 'D', 'C', 'B']\n",
            "['B', 'A', 'C', 'D']\n",
            "['B', 'A', 'D', 'C']\n",
            "['B', 'C', 'A', 'D']\n",
            "['B', 'C', 'D', 'A']\n",
            "['B', 'D', 'A', 'C']\n",
            "['B', 'D', 'C', 'A']\n",
            "['C', 'A', 'B', 'D']\n",
            "['C', 'A', 'D', 'B']\n",
            "['C', 'B', 'A', 'D']\n",
            "['C', 'B', 'D', 'A']\n",
            "['C', 'D', 'A', 'B']\n",
            "['C', 'D', 'B', 'A']\n",
            "['D', 'A', 'B', 'C']\n",
            "['D', 'A', 'C', 'B']\n",
            "['D', 'B', 'A', 'C']\n",
            "['D', 'B', 'C', 'A']\n",
            "['D', 'C', 'A', 'B']\n",
            "['D', 'C', 'B', 'A']\n"
          ],
          "name": "stdout"
        }
      ]
    },
    {
      "cell_type": "code",
      "metadata": {
        "colab": {
          "base_uri": "https://localhost:8080/"
        },
        "id": "T6UGLE2AZIZB",
        "outputId": "9185bf65-a8cf-481e-c852-e92aed815368"
      },
      "source": [
        "#using Itertools\n",
        "from itertools import permutations \n",
        "  \n",
        "  \n",
        "v = \"ABCD\"\n",
        "  \n",
        "# no length entered so default length\n",
        "# taken as 4(the length of string GeEK)\n",
        "p = permutations(v)   \n",
        "# Print the obtained permutations \n",
        "for j in list(p): \n",
        "    print(j) "
      ],
      "execution_count": null,
      "outputs": [
        {
          "output_type": "stream",
          "text": [
            "('A', 'B', 'C', 'D')\n",
            "('A', 'B', 'D', 'C')\n",
            "('A', 'C', 'B', 'D')\n",
            "('A', 'C', 'D', 'B')\n",
            "('A', 'D', 'B', 'C')\n",
            "('A', 'D', 'C', 'B')\n",
            "('B', 'A', 'C', 'D')\n",
            "('B', 'A', 'D', 'C')\n",
            "('B', 'C', 'A', 'D')\n",
            "('B', 'C', 'D', 'A')\n",
            "('B', 'D', 'A', 'C')\n",
            "('B', 'D', 'C', 'A')\n",
            "('C', 'A', 'B', 'D')\n",
            "('C', 'A', 'D', 'B')\n",
            "('C', 'B', 'A', 'D')\n",
            "('C', 'B', 'D', 'A')\n",
            "('C', 'D', 'A', 'B')\n",
            "('C', 'D', 'B', 'A')\n",
            "('D', 'A', 'B', 'C')\n",
            "('D', 'A', 'C', 'B')\n",
            "('D', 'B', 'A', 'C')\n",
            "('D', 'B', 'C', 'A')\n",
            "('D', 'C', 'A', 'B')\n",
            "('D', 'C', 'B', 'A')\n"
          ],
          "name": "stdout"
        }
      ]
    },
    {
      "cell_type": "code",
      "metadata": {
        "colab": {
          "base_uri": "https://localhost:8080/"
        },
        "id": "NEyTM5OTZVlf",
        "outputId": "3e33b25d-33e6-4047-85e1-5187b1de2025"
      },
      "source": [
        "# Combinations Of string \"GITAM\" OF SIZE 3.\n",
        "  \n",
        "  \n",
        "from itertools import combinations\n",
        "  \n",
        "letters =\"EECE\"\n",
        "  \n",
        "# size of combination is set to 3\n",
        "a = combinations(letters, 3) \n",
        "y = [' '.join(i) for i in a]\n",
        "  \n",
        "print(y)"
      ],
      "execution_count": null,
      "outputs": [
        {
          "output_type": "stream",
          "text": [
            "['E E C', 'E E E', 'E C E', 'E C E']\n"
          ],
          "name": "stdout"
        }
      ]
    },
    {
      "cell_type": "code",
      "metadata": {
        "id": "G07AeaD0qYKP"
      },
      "source": [
        "def permutations(iterable, r=None):  # iterable='ABCD';r=n\n",
        "    pool = tuple(iterable)    # pool=('A','B','C','D')\n",
        "    n=len(pool)              # n=4\n",
        "    r = n if r is None else r  # r=n=4\n",
        "    if r > n:\n",
        "        return\n",
        "    indices = list(range(n))  # indices= list(range(4))=[0,1,2,3]\n",
        "    cycles = list(range(n, n-r, -1))   #cycles=list(4,0,-1)=[4,3,2,1]\n",
        "    yield tuple(pool[i] for i in indices[:r]) #indices[1:3]= [1,2] \n",
        "    while n:  #n=4\n",
        "        #print(n)\n",
        "        for i in reversed(range(r)): \n",
        "            #print(i)\n",
        "            cycles[i] -= 1\n",
        "            #print(cycles[i])\n",
        "            if cycles[i] == 0:\n",
        "                #print(indices[i:i+1])\n",
        "                indices[i:] = indices[i+1:] + indices[i:i+1]\n",
        "                #print(indices[i:])\n",
        "                cycles[i] = n - i\n",
        "            else:\n",
        "                j = cycles[i]  #j=2,i=3\n",
        "                indices[i], indices[-j] = indices[-j], indices[i] # i=-2,-j=3\n",
        "                #print(indices)\n",
        "                yield tuple(pool[i] for i in indices[:r])\n",
        "                break\n",
        "        else:\n",
        "            return"
      ],
      "execution_count": null,
      "outputs": []
    },
    {
      "cell_type": "code",
      "metadata": {
        "colab": {
          "base_uri": "https://localhost:8080/"
        },
        "id": "dVtBV0gzrhI9",
        "outputId": "4555caf1-b46e-410c-e0b5-d8786b98add4"
      },
      "source": [
        "v=permutations('ABCD')\n",
        "print(list(v))"
      ],
      "execution_count": null,
      "outputs": [
        {
          "output_type": "stream",
          "text": [
            "[('A', 'B', 'C', 'D'), ('A', 'B', 'D', 'C'), ('A', 'C', 'B', 'D'), ('A', 'C', 'D', 'B'), ('A', 'D', 'B', 'C'), ('A', 'D', 'C', 'B'), ('B', 'A', 'C', 'D'), ('B', 'A', 'D', 'C'), ('B', 'C', 'A', 'D'), ('B', 'C', 'D', 'A'), ('B', 'D', 'A', 'C'), ('B', 'D', 'C', 'A'), ('C', 'A', 'B', 'D'), ('C', 'A', 'D', 'B'), ('C', 'B', 'A', 'D'), ('C', 'B', 'D', 'A'), ('C', 'D', 'A', 'B'), ('C', 'D', 'B', 'A'), ('D', 'A', 'B', 'C'), ('D', 'A', 'C', 'B'), ('D', 'B', 'A', 'C'), ('D', 'B', 'C', 'A'), ('D', 'C', 'A', 'B'), ('D', 'C', 'B', 'A')]\n"
          ],
          "name": "stdout"
        }
      ]
    },
    {
      "cell_type": "code",
      "metadata": {
        "id": "B1LYUusjQik9"
      },
      "source": [
        "def combinations(iterable, r): #iterable='ABCD'\n",
        "    pool = tuple(iterable)  #pool=('A','B','C','D')\n",
        "    n = len(pool)  #n=4 #r=3\n",
        "    if r > n:\n",
        "        return\n",
        "    indices = list(range(r)) #indices=list(range(3))=[0,1,2]\n",
        "    #print(indices)\n",
        "    yield tuple(pool[i] for i in indices) #pool=('A','B','C')\n",
        "    while True:\n",
        "        for i in reversed(range(r)):#i=[2,1,0]\n",
        "            #print(i)\n",
        "            if indices[i] != i + n - r:\n",
        "                break\n",
        "        else:\n",
        "            return\n",
        "        indices[i] += 1\n",
        "        #print(i)\n",
        "        for j in range(i+1, r):\n",
        "            indices[j] = indices[j-1] + 1\n",
        "        print(indices)\n",
        "        yield tuple(pool[i] for i in indices)"
      ],
      "execution_count": null,
      "outputs": []
    },
    {
      "cell_type": "code",
      "metadata": {
        "colab": {
          "base_uri": "https://localhost:8080/"
        },
        "id": "A2uC4CkvQqOu",
        "outputId": "53145ce8-d1aa-437d-fc25-5a0a4b77829f"
      },
      "source": [
        "v=combinations('GITAM',3)\n",
        "y = [' '.join(i) for i in v]\n",
        "  \n",
        "print(y)"
      ],
      "execution_count": null,
      "outputs": [
        {
          "output_type": "stream",
          "text": [
            "[0, 1, 3]\n",
            "[0, 1, 4]\n",
            "[0, 2, 3]\n",
            "[0, 2, 4]\n",
            "[0, 3, 4]\n",
            "[1, 2, 3]\n",
            "[1, 2, 4]\n",
            "[1, 3, 4]\n",
            "[2, 3, 4]\n",
            "['G I T', 'G I A', 'G I M', 'G T A', 'G T M', 'G A M', 'I T A', 'I T M', 'I A M', 'T A M']\n"
          ],
          "name": "stdout"
        }
      ]
    }
  ]
}